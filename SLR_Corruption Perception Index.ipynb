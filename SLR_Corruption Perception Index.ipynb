{
 "cells": [
  {
   "cell_type": "markdown",
   "id": "c82610e3",
   "metadata": {},
   "source": [
    "### SLR on Corruption Perception Index"
   ]
  },
  {
   "cell_type": "code",
   "execution_count": 7,
   "id": "fc76beb2",
   "metadata": {},
   "outputs": [],
   "source": [
    "# import the basic library\n",
    "import numpy as np\n",
    "import pandas as pd\n",
    "import seaborn as sn\n",
    "import matplotlib.pyplot as plt\n",
    "\n",
    "import statsmodels.api as sm #for SLR\n",
    "\n",
    "import warnings\n",
    "warnings.filterwarnings('ignore')"
   ]
  },
  {
   "cell_type": "code",
   "execution_count": 5,
   "id": "76c9626d",
   "metadata": {},
   "outputs": [
    {
     "data": {
      "text/html": [
       "<div>\n",
       "<style scoped>\n",
       "    .dataframe tbody tr th:only-of-type {\n",
       "        vertical-align: middle;\n",
       "    }\n",
       "\n",
       "    .dataframe tbody tr th {\n",
       "        vertical-align: top;\n",
       "    }\n",
       "\n",
       "    .dataframe thead th {\n",
       "        text-align: right;\n",
       "    }\n",
       "</style>\n",
       "<table border=\"1\" class=\"dataframe\">\n",
       "  <thead>\n",
       "    <tr style=\"text-align: right;\">\n",
       "      <th></th>\n",
       "      <th>Country</th>\n",
       "      <th>Corruption_Index</th>\n",
       "      <th>Gini_Index</th>\n",
       "    </tr>\n",
       "  </thead>\n",
       "  <tbody>\n",
       "    <tr>\n",
       "      <th>0</th>\n",
       "      <td>Hong Kong</td>\n",
       "      <td>77</td>\n",
       "      <td>53.7</td>\n",
       "    </tr>\n",
       "    <tr>\n",
       "      <th>1</th>\n",
       "      <td>South Korea</td>\n",
       "      <td>53</td>\n",
       "      <td>30.2</td>\n",
       "    </tr>\n",
       "    <tr>\n",
       "      <th>2</th>\n",
       "      <td>China</td>\n",
       "      <td>40</td>\n",
       "      <td>46.2</td>\n",
       "    </tr>\n",
       "    <tr>\n",
       "      <th>3</th>\n",
       "      <td>Italy</td>\n",
       "      <td>47</td>\n",
       "      <td>32.7</td>\n",
       "    </tr>\n",
       "    <tr>\n",
       "      <th>4</th>\n",
       "      <td>Mongolia</td>\n",
       "      <td>38</td>\n",
       "      <td>36.5</td>\n",
       "    </tr>\n",
       "    <tr>\n",
       "      <th>5</th>\n",
       "      <td>Austria</td>\n",
       "      <td>75</td>\n",
       "      <td>27.6</td>\n",
       "    </tr>\n",
       "    <tr>\n",
       "      <th>6</th>\n",
       "      <td>Norway</td>\n",
       "      <td>85</td>\n",
       "      <td>23.5</td>\n",
       "    </tr>\n",
       "    <tr>\n",
       "      <th>7</th>\n",
       "      <td>UK</td>\n",
       "      <td>81</td>\n",
       "      <td>31.6</td>\n",
       "    </tr>\n",
       "    <tr>\n",
       "      <th>8</th>\n",
       "      <td>Canada</td>\n",
       "      <td>82</td>\n",
       "      <td>33.7</td>\n",
       "    </tr>\n",
       "    <tr>\n",
       "      <th>9</th>\n",
       "      <td>Germany</td>\n",
       "      <td>81</td>\n",
       "      <td>30.7</td>\n",
       "    </tr>\n",
       "    <tr>\n",
       "      <th>10</th>\n",
       "      <td>Sweden</td>\n",
       "      <td>88</td>\n",
       "      <td>25.4</td>\n",
       "    </tr>\n",
       "    <tr>\n",
       "      <th>11</th>\n",
       "      <td>Denmark</td>\n",
       "      <td>90</td>\n",
       "      <td>27.5</td>\n",
       "    </tr>\n",
       "    <tr>\n",
       "      <th>12</th>\n",
       "      <td>France</td>\n",
       "      <td>69</td>\n",
       "      <td>30.1</td>\n",
       "    </tr>\n",
       "    <tr>\n",
       "      <th>13</th>\n",
       "      <td>United States</td>\n",
       "      <td>74</td>\n",
       "      <td>40.8</td>\n",
       "    </tr>\n",
       "    <tr>\n",
       "      <th>14</th>\n",
       "      <td>Russia</td>\n",
       "      <td>29</td>\n",
       "      <td>40.1</td>\n",
       "    </tr>\n",
       "    <tr>\n",
       "      <th>15</th>\n",
       "      <td>Portugal</td>\n",
       "      <td>62</td>\n",
       "      <td>34.2</td>\n",
       "    </tr>\n",
       "    <tr>\n",
       "      <th>16</th>\n",
       "      <td>Romania</td>\n",
       "      <td>48</td>\n",
       "      <td>34.0</td>\n",
       "    </tr>\n",
       "    <tr>\n",
       "      <th>17</th>\n",
       "      <td>Argentina</td>\n",
       "      <td>36</td>\n",
       "      <td>42.7</td>\n",
       "    </tr>\n",
       "    <tr>\n",
       "      <th>18</th>\n",
       "      <td>Greece</td>\n",
       "      <td>44</td>\n",
       "      <td>34.2</td>\n",
       "    </tr>\n",
       "    <tr>\n",
       "      <th>19</th>\n",
       "      <td>Thailand</td>\n",
       "      <td>35</td>\n",
       "      <td>39.4</td>\n",
       "    </tr>\n",
       "  </tbody>\n",
       "</table>\n",
       "</div>"
      ],
      "text/plain": [
       "          Country  Corruption_Index  Gini_Index\n",
       "0       Hong Kong                77        53.7\n",
       "1     South Korea                53        30.2\n",
       "2           China                40        46.2\n",
       "3           Italy                47        32.7\n",
       "4        Mongolia                38        36.5\n",
       "5         Austria                75        27.6\n",
       "6          Norway                85        23.5\n",
       "7              UK                81        31.6\n",
       "8          Canada                82        33.7\n",
       "9         Germany                81        30.7\n",
       "10         Sweden                88        25.4\n",
       "11        Denmark                90        27.5\n",
       "12         France                69        30.1\n",
       "13  United States                74        40.8\n",
       "14        Russia                 29        40.1\n",
       "15       Portugal                62        34.2\n",
       "16        Romania                48        34.0\n",
       "17      Argentina                36        42.7\n",
       "18         Greece                44        34.2\n",
       "19      Thailand                 35        39.4"
      ]
     },
     "execution_count": 5,
     "metadata": {},
     "output_type": "execute_result"
    }
   ],
   "source": [
    "# import the dataset\n",
    "df = pd.read_csv('country.csv')\n",
    "df"
   ]
  },
  {
   "cell_type": "code",
   "execution_count": 9,
   "id": "e359e27e",
   "metadata": {},
   "outputs": [],
   "source": [
    "# Let Gini_Index be X and Corruption_index be y\n",
    "\n",
    "X = sm.add_constant(df['Gini_Index'])\n",
    "y = df['Corruption_Index']"
   ]
  },
  {
   "cell_type": "code",
   "execution_count": 11,
   "id": "7b90f179",
   "metadata": {},
   "outputs": [],
   "source": [
    "# Fitting the model using OLS (Ordinary Least Squared) method\n",
    "\n",
    "model = sm.OLS(y,X).fit()"
   ]
  },
  {
   "cell_type": "code",
   "execution_count": 14,
   "id": "c0125ac6",
   "metadata": {},
   "outputs": [
    {
     "name": "stdout",
     "output_type": "stream",
     "text": [
      "const         106.695011\n",
      "Gini_Index     -1.295193\n",
      "dtype: float64\n"
     ]
    }
   ],
   "source": [
    "print(model.params)"
   ]
  },
  {
   "cell_type": "code",
   "execution_count": 17,
   "id": "3b88ed20",
   "metadata": {},
   "outputs": [],
   "source": [
    "# The model returns: y = 106.69 + -1.29X"
   ]
  },
  {
   "cell_type": "code",
   "execution_count": 18,
   "id": "0da30455",
   "metadata": {},
   "outputs": [
    {
     "data": {
      "text/plain": [
       "0     37.143138\n",
       "1     67.580177\n",
       "2     46.857086\n",
       "3     64.342194\n",
       "4     59.420460\n",
       "5     70.947679\n",
       "6     76.257971\n",
       "7     65.766907\n",
       "8     63.047001\n",
       "9     66.932580\n",
       "10    73.797104\n",
       "11    71.077199\n",
       "12    67.709696\n",
       "13    53.851129\n",
       "14    54.757765\n",
       "15    62.399404\n",
       "16    62.658443\n",
       "17    51.390262\n",
       "18    62.399404\n",
       "19    55.664400\n",
       "dtype: float64"
      ]
     },
     "execution_count": 18,
     "metadata": {},
     "output_type": "execute_result"
    }
   ],
   "source": [
    "# Predict the y value\n",
    "y_pred = model.predict(X)\n",
    "y_pred"
   ]
  },
  {
   "cell_type": "code",
   "execution_count": 19,
   "id": "3a700de9",
   "metadata": {},
   "outputs": [
    {
     "data": {
      "text/plain": [
       "0.21521228052302832"
      ]
     },
     "execution_count": 19,
     "metadata": {},
     "output_type": "execute_result"
    }
   ],
   "source": [
    "# Measure the r-squared to discern how close the data are fitted to the regression line\n",
    "\n",
    "from sklearn.metrics import r2_score\n",
    "r2_score(y, y_pred)\n",
    "\n",
    "# Here we got r-square = 0.215\n",
    "# The models only explains 21.5% of the variances in Y."
   ]
  }
 ],
 "metadata": {
  "kernelspec": {
   "display_name": "Python 3 (ipykernel)",
   "language": "python",
   "name": "python3"
  },
  "language_info": {
   "codemirror_mode": {
    "name": "ipython",
    "version": 3
   },
   "file_extension": ".py",
   "mimetype": "text/x-python",
   "name": "python",
   "nbconvert_exporter": "python",
   "pygments_lexer": "ipython3",
   "version": "3.9.12"
  }
 },
 "nbformat": 4,
 "nbformat_minor": 5
}
